{
 "cells": [
  {
   "cell_type": "code",
   "execution_count": null,
   "metadata": {},
   "outputs": [],
   "source": []
  }
 ],
 "metadata": {
  "kernelspec": {
   "display_name": "style-transfer",
   "language": "python",
   "name": "python3"
  },
  "language_info": {
   "name": "python",
   "version": "3.9.10 (main, May 25 2022, 12:42:22) \n[GCC 7.5.0]"
  },
  "orig_nbformat": 4,
  "vscode": {
   "interpreter": {
    "hash": "dbcbe344d34c86c5474b7ad0174f24ada57754e933e5cd58dc87f75f99c5a6ec"
   }
  }
 },
 "nbformat": 4,
 "nbformat_minor": 2
}
